{
  "nbformat": 4,
  "nbformat_minor": 0,
  "metadata": {
    "colab": {
      "provenance": []
    },
    "kernelspec": {
      "name": "python3",
      "display_name": "Python 3"
    },
    "language_info": {
      "name": "python"
    }
  },
  "cells": [
    {
      "cell_type": "code",
      "execution_count": null,
      "metadata": {
        "colab": {
          "base_uri": "https://localhost:8080/"
        },
        "id": "ZKULzk79I5dH",
        "outputId": "3cab1523-d0ee-4f9e-ff0c-6f7f8b540fe4"
      },
      "outputs": [
        {
          "output_type": "stream",
          "name": "stdout",
          "text": [
            "Requirement already satisfied: opencv-python in /usr/local/lib/python3.10/dist-packages (4.7.0.72)\n",
            "Requirement already satisfied: numpy>=1.21.2 in /usr/local/lib/python3.10/dist-packages (from opencv-python) (1.22.4)\n"
          ]
        }
      ],
      "source": [
        "!pip3 install opencv-python"
      ]
    },
    {
      "cell_type": "code",
      "source": [
        "import cv2"
      ],
      "metadata": {
        "id": "dUVMer6QJA3i"
      },
      "execution_count": null,
      "outputs": []
    },
    {
      "cell_type": "code",
      "source": [
        "cap = cv2.VideoCapture(0)\n",
        "\n",
        "ret, frame1 = cap.read()\n",
        "ret, frame2 = cap.read()\n",
        "\n",
        "frame_count = 0\n",
        "\n",
        "while cap.isOpened():\n",
        "  diff = cv2.absdiff(frame1, frame2)\n",
        "  gray = cv2.cvtColor(diff, cv2.COLOR_BRG2GRAY)\n",
        "  blur = cv2.GaussianBlur(gray, (5,5), 0) #фильтрация лишних контуров\n",
        "\n",
        "  _, thresh = cv2.threshold(blur, 20, 255, cv2.THRESH_BINARY) #убираем шум\n",
        "\n",
        "  dilated = cv2.dilate(thresh, None, iterations = 3) #расширяем выделенную область\n",
        "  contours,_ = cv2.findContours(dilated, cv2.RETR_TREE, cv2.CHAIN_APPROX_SIMPLE) #поиск контуров\n",
        "\n",
        "  for contour in contours:\n",
        "    (x, y, w, h) = cv2.boundingRect(contour)\n",
        "    if cv2.contourArea(contour) < 700:\n",
        "      continue\n",
        "    cv2.rectangle(frame1, (x, y), (x+w, y+h), (0, 255, 0), 2)\n",
        "    #cv2.putText(frame1, \"Status: {}\".format(\"Movement\"), (10, 20), cv2.FONT_HERSHEY_SIMPLEX, 1, (255, 255, 255), 3, cv2.LINE_)\n",
        "\n",
        "    cv2.drawContours(frame1, contours, -1, (212, 63, 110), thickness=cv2.FILLED)\n",
        "\n",
        "    cv2.imshow(\"gray\", cv2.flip(gray,1))\n",
        "    cv2.imshow(\"frame\", cv2.flip(frame1, 1))\n",
        "\n",
        "    frame1 = frame2\n",
        "    ret, frame2 = cap.read()\n",
        "    frame_count += 1\n",
        "\n",
        "    if cv2.waitKey(2) & 0xff == 27:\n",
        "      break\n",
        "\n",
        "cap.release()\n",
        "cv2.destroyAllWindows\n",
        "\n",
        "frame_count"
      ],
      "metadata": {
        "colab": {
          "base_uri": "https://localhost:8080/"
        },
        "id": "HcpBLaM7JsB3",
        "outputId": "87136ab6-89ef-4be6-a5fb-c27112b05157"
      },
      "execution_count": null,
      "outputs": [
        {
          "output_type": "execute_result",
          "data": {
            "text/plain": [
              "0"
            ]
          },
          "metadata": {},
          "execution_count": 5
        }
      ]
    },
    {
      "cell_type": "code",
      "source": [
        "cap.release()\n",
        "cv2.destroyAllWindows"
      ],
      "metadata": {
        "colab": {
          "base_uri": "https://localhost:8080/"
        },
        "id": "ppXGAUHne38R",
        "outputId": "380756ec-9af4-488b-dd81-8ac1171dc8ba"
      },
      "execution_count": null,
      "outputs": [
        {
          "output_type": "execute_result",
          "data": {
            "text/plain": [
              "<function destroyAllWindows>"
            ]
          },
          "metadata": {},
          "execution_count": 6
        }
      ]
    }
  ]
}